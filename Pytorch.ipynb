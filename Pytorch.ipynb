{
  "nbformat": 4,
  "nbformat_minor": 0,
  "metadata": {
    "colab": {
      "name": "Pytorch.ipynb",
      "provenance": [],
      "authorship_tag": "ABX9TyPYEtxGh6u0Ksr8Z2v0d3Wo",
      "include_colab_link": true
    },
    "kernelspec": {
      "name": "python3",
      "display_name": "Python 3"
    },
    "language_info": {
      "name": "python"
    }
  },
  "cells": [
    {
      "cell_type": "markdown",
      "metadata": {
        "id": "view-in-github",
        "colab_type": "text"
      },
      "source": [
        "<a href=\"https://colab.research.google.com/github/gubei528/Algorithm_Interview_Notes-Chinese/blob/master/Pytorch.ipynb\" target=\"_parent\"><img src=\"https://colab.research.google.com/assets/colab-badge.svg\" alt=\"Open In Colab\"/></a>"
      ]
    },
    {
      "cell_type": "code",
      "metadata": {
        "id": "Nbl8zqlM9yy7"
      },
      "source": [
        "import torch"
      ],
      "execution_count": 1,
      "outputs": []
    },
    {
      "cell_type": "code",
      "metadata": {
        "colab": {
          "base_uri": "https://localhost:8080/"
        },
        "id": "Vf0BHoiONkXo",
        "outputId": "5be4918e-f8f6-4b30-84c2-33338dc64a1d"
      },
      "source": [
        "B = torch.tensor((1,2,3),dtype = torch.float32,requires_grad=True)\n",
        "B"
      ],
      "execution_count": 4,
      "outputs": [
        {
          "output_type": "execute_result",
          "data": {
            "text/plain": [
              "tensor([1., 2., 3.], requires_grad=True)"
            ]
          },
          "metadata": {
            "tags": []
          },
          "execution_count": 4
        }
      ]
    },
    {
      "cell_type": "code",
      "metadata": {
        "colab": {
          "base_uri": "https://localhost:8080/"
        },
        "id": "xd7Toc7qNyu1",
        "outputId": "ed82aa1a-b538-488e-b6e5-d8941b3201d6"
      },
      "source": [
        "Y  = B.pow(2).sum()\n",
        "Y.backward()\n",
        "B.grad"
      ],
      "execution_count": 5,
      "outputs": [
        {
          "output_type": "execute_result",
          "data": {
            "text/plain": [
              "tensor([2., 4., 6.])"
            ]
          },
          "metadata": {
            "tags": []
          },
          "execution_count": 5
        }
      ]
    },
    {
      "cell_type": "code",
      "metadata": {
        "colab": {
          "base_uri": "https://localhost:8080/"
        },
        "id": "mAgj6B1IRcxe",
        "outputId": "01d7f7e5-7f76-4b8f-9a89-ccfe2c35032f"
      },
      "source": [
        "c = torch.Tensor(2,3)\n",
        "c"
      ],
      "execution_count": 9,
      "outputs": [
        {
          "output_type": "execute_result",
          "data": {
            "text/plain": [
              "tensor([[1.4281e+12, 3.0681e-41, 3.7835e-44],\n",
              "        [0.0000e+00,        nan, 6.4460e-44]])"
            ]
          },
          "metadata": {
            "tags": []
          },
          "execution_count": 9
        }
      ]
    },
    {
      "cell_type": "code",
      "metadata": {
        "colab": {
          "base_uri": "https://localhost:8080/"
        },
        "id": "YTAyTVkmPU4J",
        "outputId": "b551502c-1a05-4355-e204-ec61ba0c79cb"
      },
      "source": [
        "## 创建一个与B维度相同的全1张量\n",
        "D = torch.ones_like(B)\n",
        "D"
      ],
      "execution_count": 7,
      "outputs": [
        {
          "output_type": "execute_result",
          "data": {
            "text/plain": [
              "tensor([1., 1., 1.])"
            ]
          },
          "metadata": {
            "tags": []
          },
          "execution_count": 7
        }
      ]
    },
    {
      "cell_type": "markdown",
      "metadata": {
        "id": "31_8IBEoQTAI"
      },
      "source": [
        "torch.**_like() # 系列函数生成与指定张量维度相同的张量\n",
        "1.   torch.ones_like() 生成全1张量\n",
        "2.   torch.zeros_like() 生成全0张量\n",
        "3.   torch.rand_like()  生成随机张量\n",
        "\n",
        "\n",
        "\n",
        "\n"
      ]
    },
    {
      "cell_type": "code",
      "metadata": {
        "colab": {
          "base_uri": "https://localhost:8080/"
        },
        "id": "1b3HjgwuP8Ff",
        "outputId": "308b23ea-bc4b-4792-96b1-ac8cac4a73b8"
      },
      "source": [
        "torch.zeros_like(c)"
      ],
      "execution_count": 10,
      "outputs": [
        {
          "output_type": "execute_result",
          "data": {
            "text/plain": [
              "tensor([[0., 0., 0.],\n",
              "        [0., 0., 0.]])"
            ]
          },
          "metadata": {
            "tags": []
          },
          "execution_count": 10
        }
      ]
    },
    {
      "cell_type": "code",
      "metadata": {
        "colab": {
          "base_uri": "https://localhost:8080/"
        },
        "id": "gXVa9zMgRcGf",
        "outputId": "a081678b-8ac8-4b7e-c7b9-a8e1d4002fd1"
      },
      "source": [
        "torch.rand_like(c)"
      ],
      "execution_count": 11,
      "outputs": [
        {
          "output_type": "execute_result",
          "data": {
            "text/plain": [
              "tensor([[0.6545, 0.5184, 0.2010],\n",
              "        [0.8323, 0.5884, 0.0642]])"
            ]
          },
          "metadata": {
            "tags": []
          },
          "execution_count": 11
        }
      ]
    },
    {
      "cell_type": "markdown",
      "metadata": {
        "id": "TqjAN00cRzHP"
      },
      "source": [
        "针对创建好的张量，使用c.new_**()系列函数创建出新的张量\n",
        "\n",
        "\n",
        "*   c.new_full((3,3),fill_value = *)  填充*的*3 x 3*的张量\n",
        "*   c.new_zeros((3,3))   3x3 的全0张量\n",
        "*   c.new_empty((3,3))   3x3 的空张量\n",
        "*   c.new_ones((3,3))   3x3 全1张量\n",
        "\n",
        "\n",
        "\n"
      ]
    },
    {
      "cell_type": "code",
      "metadata": {
        "colab": {
          "base_uri": "https://localhost:8080/"
        },
        "id": "ZI1eBEehSONC",
        "outputId": "e2b8b7c4-4ddf-4270-dea6-0d2ee32c81f3"
      },
      "source": [
        "# 使用D.new_tensor()将列表转换成张量\n",
        "e = [[1,2],[3,4]]  # list\n",
        "e = c.new_tensor(e)\n",
        "e.type"
      ],
      "execution_count": 14,
      "outputs": [
        {
          "output_type": "execute_result",
          "data": {
            "text/plain": [
              "<function Tensor.type>"
            ]
          },
          "metadata": {
            "tags": []
          },
          "execution_count": 14
        }
      ]
    },
    {
      "cell_type": "markdown",
      "metadata": {
        "id": "Vd97dqPUURXx"
      },
      "source": [
        "Tensor 和 numpy 数据转换\n",
        "*  将numpy数组转换为torch张量，使用torch.as_tensor() 函数和torch.from_numpy()函\n",
        "数\n",
        "*  torch.numpy()函数转换为numpy数组\n",
        "*  **注：numpy默认生成的数组为float64类型的**"
      ]
    },
    {
      "cell_type": "code",
      "metadata": {
        "id": "h47XV1AGS6sC"
      },
      "source": [
        "import numpy as np\n"
      ],
      "execution_count": 15,
      "outputs": []
    },
    {
      "cell_type": "code",
      "metadata": {
        "colab": {
          "base_uri": "https://localhost:8080/"
        },
        "id": "PQro-63SUvOJ",
        "outputId": "5d21d33e-017d-4186-df52-3b4a26da7b4a"
      },
      "source": [
        "F = np.ones((3,3))\n",
        "F_tensor = torch.as_tensor(F)\n",
        "F_tensor"
      ],
      "execution_count": 17,
      "outputs": [
        {
          "output_type": "execute_result",
          "data": {
            "text/plain": [
              "tensor([[1., 1., 1.],\n",
              "        [1., 1., 1.],\n",
              "        [1., 1., 1.]], dtype=torch.float64)"
            ]
          },
          "metadata": {
            "tags": []
          },
          "execution_count": 17
        }
      ]
    },
    {
      "cell_type": "code",
      "metadata": {
        "colab": {
          "base_uri": "https://localhost:8080/"
        },
        "id": "0XRoiMeuVErn",
        "outputId": "91b2715c-a912-4d18-8fb3-6e7cbbe9b876"
      },
      "source": [
        "F_tensor2 = torch.from_numpy(F)\n",
        "F_tensor2"
      ],
      "execution_count": 19,
      "outputs": [
        {
          "output_type": "execute_result",
          "data": {
            "text/plain": [
              "tensor([[1., 1., 1.],\n",
              "        [1., 1., 1.],\n",
              "        [1., 1., 1.]], dtype=torch.float64)"
            ]
          },
          "metadata": {
            "tags": []
          },
          "execution_count": 19
        }
      ]
    },
    {
      "cell_type": "markdown",
      "metadata": {
        "id": "qPu3wR9cV5zU"
      },
      "source": [
        "生成随机数之前可以使用torch.manual_seed()函数，指定生成随机数种子，"
      ]
    },
    {
      "cell_type": "code",
      "metadata": {
        "colab": {
          "base_uri": "https://localhost:8080/"
        },
        "id": "rXVNJ1mjVyFG",
        "outputId": "8e09965a-fc70-4be8-c8e2-e4fa6237c332"
      },
      "source": [
        "torch.manual_seed(123)\n",
        "A = torch.normal(mean = 0.0,std = torch.tensor(1.0))  # mean 指定随机数的均值，std参数指定随机数的标准差\n",
        "# 若两个参数只有一个数，那么只会生成一个随机数，有多值的话，则会生成多个随机数\n",
        "A"
      ],
      "execution_count": 20,
      "outputs": [
        {
          "output_type": "execute_result",
          "data": {
            "text/plain": [
              "tensor(-0.1115)"
            ]
          },
          "metadata": {
            "tags": []
          },
          "execution_count": 20
        }
      ]
    },
    {
      "cell_type": "code",
      "metadata": {
        "colab": {
          "base_uri": "https://localhost:8080/"
        },
        "id": "dH1linudVwM9",
        "outputId": "1248da11-7a98-42e6-ce02-3182678ae1c5"
      },
      "source": [
        "torch.manual_seed(123)\n",
        "A = torch.normal(mean = 0.0,std = torch.arange(1,10.0))\n",
        "A "
      ],
      "execution_count": 23,
      "outputs": [
        {
          "output_type": "execute_result",
          "data": {
            "text/plain": [
              "tensor([-0.1115,  0.2407, -1.1089, -0.9617, -5.9846,  1.2556, -6.8065, -6.0404,\n",
              "         2.9151])"
            ]
          },
          "metadata": {
            "tags": []
          },
          "execution_count": 23
        }
      ]
    },
    {
      "cell_type": "code",
      "metadata": {
        "id": "Tsx6PH5LXPHu"
      },
      "source": [
        ""
      ],
      "execution_count": null,
      "outputs": []
    }
  ]
}